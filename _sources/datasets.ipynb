{
 "cells": [
  {
   "cell_type": "markdown",
   "id": "a7b1fab5",
   "metadata": {},
   "source": [
    "# Open MSK images"
   ]
  },
  {
   "cell_type": "markdown",
   "id": "348efb3d",
   "metadata": {},
   "source": [
    "This page contain links to open souce musculoskeletal images "
   ]
  },
  {
   "cell_type": "markdown",
   "id": "353a0ce7",
   "metadata": {},
   "source": [
    "## Tissue level: HR-pQCT / µCT"
   ]
  },
  {
   "cell_type": "markdown",
   "id": "8e015a51",
   "metadata": {},
   "source": [
    "|Species | Anatomy | Image characteristics| Corresponding paper | Link to repository |  \n",
    "| :---| :--- | :---- | :---- | :---: |   \n",
    "| Human |Radius and tibia (HR-pQCT)| 1 radius and 1 tibia acquired with standard protocol (82µ) | No publication available| <a href=\"https://zenodo.org/record/4073082\">here</a>|\n",
    "|Mouse|Knee (µCT)| 22 images of trabecular bone at the proximal tibia | Lau A. et al. <a href=\"https://www.ncbi.nlm.nih.gov/pmc/articles/PMC4396845/\">Joint bleeding in factor VIII deficient mice causes an acute loss of trabecular bone and calcification of joint soft tissues which is prevented with aggressive factor replacement</a>| <a href=\"https://zenodo.org/record/3909552\">here</a>|"
   ]
  },
  {
   "cell_type": "markdown",
   "id": "ff9dc9d8",
   "metadata": {},
   "source": [
    "## Organ level: MR / CT \n",
    "- Only human images"
   ]
  },
  {
   "cell_type": "markdown",
   "id": "94822bf2",
   "metadata": {},
   "source": [
    "| Anatomy | Image characteristics| Corresponding paper | Link to repository |  \n",
    "| :--- | :---- | :---- | :---: |   \n",
    "|Knee (MR)| Masks of bones and cartilages of about 600 images from the OAI dataset |Ambellan F. et al. <a href=\"https://pubmed.ncbi.nlm.nih.gov/30529224/\">Automated segmentation of knee bone and cartilage combining statistical shape knowledge and convolutional neural networks: Data from the Osteoarthritis Initiative</a>| <a href=\"https://opus4.kobv.de/opus4-zib/frontdoor/index/index/docId/6995\">here</a>|\n",
    "|Knee (MR)| About 100 OAI images with corresponding femoral cartilage masks, thicknesses, and relaxometry |Bonaretti S. et al.  <a href=\"https://doi.org/10.1371/journal.pone.0226501\">pyKNEEr: An image analysis workflow for open and reproducible research on femoral knee cartilage</a> |<a href=\"https://zenodo.org/record/2583184\">here</a> |\n",
    "|Knee (MR)| 1,370 knee MRI exams performed at Stanford University Medical Center. |Bien N. et al.  <a href=\"https://doi.org/10.1371/journal.pmed.1002699\">Deep-learning-assisted diagnosis for knee magnetic resonance imaging: Development and retrospective validation of MRNet</a> |<a href=\"https://stanfordmlgroup.github.io/competitions/mrnet/\">here</a> |\n",
    "|Spine (CT)| 160 CT image series of 141 patients with segmentation masks of 1725 vertebrae |Sekuboyina A. et al.  <a href=\"https://pubmed.ncbi.nlm.nih.gov/34340104/\">VerSe: A Vertebrae labelling and segmentation benchmark for multi-detector CT images</a> |<a href=\"https://osf.io/nqjyw/\">here</a> |\n",
    "|Knee (MR)| 46996 automated segmentations of bones and cartilages from the OAI dataset |Tack A. et al.  <a href=\"https://doi.org/10.1371/journal.pone.0258855\">Towards novel osteoarthritis biomarkers: Multi-criteria evaluation of 46,996 segmented knee MRI data from the Osteoarthritis Initiative</a> |<a href=\"https://pubdata.zib.de/\">here</a> |\n",
    "|Knee (MR)| 2399 automated MR knee menisci |Tack A. et al.  <a href=\"https://www.frontiersin.org/articles/10.3389/fbioe.2021.747217\">A deep multi-task learning method for detection of meniscal tears in MRI data from the Osteoarthritis Initiative database.</a> |<a href=\"https://pubdata.zib.de/\">here</a> |\n",
    "\n",
    "\n"
   ]
  }
 ],
 "metadata": {
  "kernelspec": {
   "display_name": "Python 3 (ipykernel)",
   "language": "python",
   "name": "python3"
  },
  "language_info": {
   "codemirror_mode": {
    "name": "ipython",
    "version": 3
   },
   "file_extension": ".py",
   "mimetype": "text/x-python",
   "name": "python",
   "nbconvert_exporter": "python",
   "pygments_lexer": "ipython3",
   "version": "3.8.5"
  },
  "widgets": {
   "application/vnd.jupyter.widget-state+json": {
    "state": {},
    "version_major": 2,
    "version_minor": 0
   }
  }
 },
 "nbformat": 4,
 "nbformat_minor": 5
}
