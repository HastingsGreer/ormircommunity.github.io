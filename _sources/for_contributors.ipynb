{
 "cells": [
  {
   "cell_type": "markdown",
   "id": "fa5cb101",
   "metadata": {},
   "source": [
    "# How to contribute"
   ]
  },
  {
   "cell_type": "markdown",
   "id": "34b31169",
   "metadata": {},
   "source": [
    "Thanks for willing to contribute with your work and time to the community!  "
   ]
  },
  {
   "cell_type": "markdown",
   "id": "66ae431b",
   "metadata": {},
   "source": [
    "---  \n",
    "## Coding guidelines   \n",
    "\n",
    "The aim of the following guidelines is to make our code consistent across various pipelines  \n",
    "We follow the coding guidelines of the python community. You can have an extensive view [here](https://www.python.org/dev/peps/pep-0008/)  \n",
    "Find below a concise summary: \n",
    "\n"
   ]
  },
  {
   "cell_type": "markdown",
   "id": "6478dbcc",
   "metadata": {},
   "source": [
    "### Naming Style\n",
    "- Variables, functions, methods, modules, packages:   \n",
    "  `lower_case_with_underscores`\n",
    "- Classes and exceptions:  \n",
    "  `CapWords`\n",
    "- Constants:  \n",
    "  `ALL_CAPS_WITH_UNDERSCORES`\n",
    "\n",
    "### Indentation\n",
    "- 4 spaces\n",
    "\n",
    "### Space\n",
    "- Leave space between operators in case of assignment and arithmetic operations:  \n",
    "  ```\n",
    "  var = 4\n",
    "  result = var * 5\n",
    "  ```\n",
    "- Leave space after a comma:  \n",
    "  ```\n",
    "  var1, var2 = get_values(num1, num2)\n",
    "  ```\n",
    "  \n",
    "### Comments\n",
    "- Comments are introduced by `#`, are above the code they refer to, and are indented as the code they refer to:\n",
    "  ```\n",
    "  # assign variable\n",
    "  a = 5\n",
    "  ```\n",
    "  - *Why is this important?*   \n",
    "    As part of a community we want to write code that can be readable and reusable by others. Please, be generous and precise with your comments!"
   ]
  },
  {
   "cell_type": "markdown",
   "id": "c8cf1537",
   "metadata": {},
   "source": [
    "### Functions  \n",
    "\n",
    "We follow the *Numpy* style guide (see [here](https://numpydoc.readthedocs.io/en/latest/format.html)).\n",
    "Each function is documented right below its definition:    \n",
    "\n",
    "```\n",
    "def my_function (input1, input2):\n",
    "    \n",
    "    \"\"\"This functions does ... .\n",
    "    \n",
    "    Parameters\n",
    "    ----------\n",
    "    x : type\n",
    "        Description of parameter `x`.\n",
    "    y : type\n",
    "        Description of parameter `y`.\n",
    "    \n",
    "    Returns\n",
    "    -------\n",
    "    output: int\n",
    "        Description of anonymous integer return value.\n",
    "    \"\"\"\n",
    "    \n",
    "    # function body\n",
    "    \n",
    "    return output\n",
    "```\n",
    "- The function documentation is in between three opening and three closing single quotes `'''` double quotes: `\"\"\"`\n",
    "- Outline:  \n",
    "  - Description of what the function does\n",
    "  - Keyword `Parameters:` followed by a list of parameters. For each parameter, type on the same line, and indented description on the following line\n",
    "  - Keyword `Returns:` followed by a list of returned variables. For each variable, type on the same line, and indented description on the following line\n",
    "- *Why is this important?*   \n",
    "  These comments decleared in between triple double quotes (`\"\"\"`) are called *docstrings*. And they are used:  \n",
    "  - By users to know what the function does by typing `help (my_function)`  \n",
    "  - To create whole code documentation using, for example, `pydoc` or `Sphinx`, where you get a list of all the functions in a package, and their documentation\n",
    " "
   ]
  },
  {
   "cell_type": "markdown",
   "id": "a49a19ea",
   "metadata": {},
   "source": [
    "   \n",
    "### Classes\n",
    "Coming soon!\n",
    "\n",
    "### Modules\n",
    "Coming soon!  \n",
    "\n",
    "### Packages \n",
    "Coming soon!"
   ]
  },
  {
   "cell_type": "markdown",
   "id": "acc7d41e",
   "metadata": {},
   "source": [
    "---\n",
    "## Data types  \n",
    "\n",
    "Our pipelines usually start with `.dcm` images for CT/MR acquisitions and `.isq` images for microCT acquisitions \n",
    "In the pipeline we \n",
    "\n",
    "\n",
    "\n",
    "| Data type | Data representation     | file format  |\n",
    "| :---------| :---------------------- | :----------- |\n",
    "| Image     | SimpleITK / VTK / Numpy array / Zarr        | .dcm / .mha /. (more to be added) |\n",
    "| Mesh      | VTK                     | .vtk        | \n",
    "| Points    | VTKPoints / Numpy array | .vtk        |\n"
   ]
  },
  {
   "cell_type": "markdown",
   "id": "dd7183a0",
   "metadata": {},
   "source": [
    "---  \n",
    "## Notebook narrative  \n",
    "\n",
    "TBD"
   ]
  },
  {
   "cell_type": "markdown",
   "id": "bef4b0ec",
   "metadata": {},
   "source": [
    "---\n",
    "## Sending your contribution  \n",
    "\n",
    "TBD"
   ]
  },
  {
   "cell_type": "code",
   "execution_count": null,
   "id": "e2548b96",
   "metadata": {},
   "outputs": [],
   "source": []
  }
 ],
 "metadata": {
  "kernelspec": {
   "display_name": "Python 3",
   "language": "python",
   "name": "python3"
  },
  "language_info": {
   "codemirror_mode": {
    "name": "ipython",
    "version": 3
   },
   "file_extension": ".py",
   "mimetype": "text/x-python",
   "name": "python",
   "nbconvert_exporter": "python",
   "pygments_lexer": "ipython3",
   "version": "3.8.5"
  },
  "widgets": {
   "application/vnd.jupyter.widget-state+json": {
    "state": {},
    "version_major": 2,
    "version_minor": 0
   }
  }
 },
 "nbformat": 4,
 "nbformat_minor": 5
}
