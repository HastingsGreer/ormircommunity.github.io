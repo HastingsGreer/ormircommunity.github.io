{
 "cells": [
  {
   "cell_type": "markdown",
   "id": "3c08489f",
   "metadata": {},
   "source": [
    "# JC|MSK \n",
    "\n",
    "JC|MSK is a community for Open and Reproducible Musculoskeletal Imaging Research  \n",
    "We create code, documentation, and guidelines that are open and easy to share. Our pipelines are in Jupyter Notebook and our code is in python and C++ "
   ]
  },
  {
   "cell_type": "markdown",
   "id": "b25a8637",
   "metadata": {},
   "source": [
    "## Our Goals  \n",
    "\n",
    "We aim to:\n",
    "\n",
    "1. Create Jupyter notebooks and python packages to analyze MSK images that we can use, adapt, and share inside and outside our community  \n",
    "2. Collect and create learning material on Jupyter notebook, python, and our packages\n",
    "3. Promote a culture of openness and reproducibility in MSK imaging research"
   ]
  },
  {
   "cell_type": "markdown",
   "id": "ca1ac2c7",
   "metadata": {
    "tags": []
   },
   "source": [
    "## Content\n",
    "\n",
    "In this website you will find:  \n",
    "\n",
    "- <a href=\"nb_gallery.html\">Workflows in Jupyter notebook</a> and <a href=\"packages\">python packages</a> \n",
    "- Link to <a href=\"datasets.html\">repositories</a> with MSK images\n",
    "- Material to <a href=\"learning.html\">learn the Jupyter/python environment</a>\n",
    "- Guidelines on <a href=\"for_contributors.html\">how to contribute to the community</a>\n",
    "- <a href=\"manifesto.html\">Mot\n",
    "    ivation for this community</a> and <a href=\"manifesto.html#who-we-are\">who we are </a>"
   ]
  },
  {
   "cell_type": "markdown",
   "id": "6442c9e0-f9d9-4dc7-9d58-fce9c5836fe1",
   "metadata": {},
   "source": [
    "--- \n",
    "\n",
    "# Latest news\n",
    "\n",
    "## Jupyter Community Workshop, June 9-11, 2022, Maastricht, The Netherlands\n",
    "\n",
    "- Find information [here](https://github.com/JCMSK/2022_JCW/blob/main/README.md)"
   ]
  },
  {
   "cell_type": "code",
   "execution_count": null,
   "id": "9b406feb-6e36-4da3-b0b7-a70042cbc908",
   "metadata": {},
   "outputs": [],
   "source": []
  }
 ],
 "metadata": {
  "kernelspec": {
   "display_name": "Python 3 (ipykernel)",
   "language": "python",
   "name": "python3"
  },
  "language_info": {
   "codemirror_mode": {
    "name": "ipython",
    "version": 3
   },
   "file_extension": ".py",
   "mimetype": "text/x-python",
   "name": "python",
   "nbconvert_exporter": "python",
   "pygments_lexer": "ipython3",
   "version": "3.9.7"
  },
  "widgets": {
   "application/vnd.jupyter.widget-state+json": {
    "state": {},
    "version_major": 2,
    "version_minor": 0
   }
  }
 },
 "nbformat": 4,
 "nbformat_minor": 5
}
