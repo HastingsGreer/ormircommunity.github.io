{
 "cells": [
  {
   "cell_type": "markdown",
   "id": "36eea461",
   "metadata": {},
   "source": [
    "# JC|MSK \n",
    "\n",
    "JC|MSK is a community for Open and Reproducible Musculoskeletal Imaging Research  \n",
    "We create code, documentation, and guidelines that are open and easy to share. Our pipelines are in Jupyter Notebook and our code is in python and C++ "
   ]
  },
  {
   "cell_type": "markdown",
   "id": "d214ae8a",
   "metadata": {},
   "source": [
    "## Our Goals  \n",
    "\n",
    "We aim to:\n",
    "\n",
    "1. Create Jupyter notebooks and python packages to analyze MSK images that we can use, adapt, and share inside and outside our community  \n",
    "2. Collect and create learning material on Jupyter notebook, python, and our packages\n",
    "3. Promote a culture of openness and reproducibility in MSK imaging research"
   ]
  },
  {
   "cell_type": "markdown",
   "id": "c8971242",
   "metadata": {},
   "source": [
    "## **<< !!! This website is still work in progress!!! >>**"
   ]
  },
  {
   "cell_type": "code",
   "execution_count": null,
   "id": "a5cc8f37",
   "metadata": {},
   "outputs": [],
   "source": []
  }
 ],
 "metadata": {
  "kernelspec": {
   "display_name": "Python 3",
   "language": "python",
   "name": "python3"
  },
  "language_info": {
   "codemirror_mode": {
    "name": "ipython",
    "version": 3
   },
   "file_extension": ".py",
   "mimetype": "text/x-python",
   "name": "python",
   "nbconvert_exporter": "python",
   "pygments_lexer": "ipython3",
   "version": "3.8.5"
  },
  "widgets": {
   "application/vnd.jupyter.widget-state+json": {
    "state": {},
    "version_major": 2,
    "version_minor": 0
   }
  }
 },
 "nbformat": 4,
 "nbformat_minor": 5
}
