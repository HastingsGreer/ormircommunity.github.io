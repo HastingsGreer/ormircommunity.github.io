{
 "cells": [
  {
   "cell_type": "markdown",
   "id": "4e172606",
   "metadata": {},
   "source": [
    "# Notebook gallery"
   ]
  },
  {
   "cell_type": "markdown",
   "id": "b4d29746",
   "metadata": {},
   "source": [
    "This page contains a gallery of Jupyter notebooks with workflows for musculoskeletal image research. They are use cases that you can directly use or you can modify for your own research "
   ]
  },
  {
   "cell_type": "markdown",
   "id": "1cf5c44f",
   "metadata": {},
   "source": [
    "## Gallery\n",
    "\n",
    "See [below](#explore) how to explore the notebooks\n",
    "\n",
    "\n",
    "### Tissue level: HR-pQCT / µCT\n",
    "\n",
    "| Notebook name | Description | Link to GitHub | Link to Binder |  \n",
    "| :---          | :----       | :---:          | :---:          |  \n",
    "|isq_io_viz.ipynb | Reading, writing, and visualizing .isq images| <a href=\"https://github.com/JCMSK/nb_gallery/blob/master/isq_io_viz.ipynb\"> <img src=\"./_images/github_logo.png\"  width=\"20\" height=\"20\"></a> | Coming soon |\n",
    "| ITKIOScanco     | An ITK module to read and write Scanco microCT .isq files.| <a href=\"https://github.com/KitwareMedical/ITKIOScanco\"> <img src=\"_images/github_logo.png\"  width=\"20\" height=\"20\"></a> | [![Binder](https://mybinder.org/badge_logo.svg)](https://mybinder.org/v2/gh/KitwareMedical/ITKIOScanco/master?filepath=examples%2FReadISQ.ipynb)  |\n",
    "\n",
    "\n",
    "### Organ level: MR / CT \n",
    "\n",
    "| Notebook/package name | Description | Link to GitHub | Link to Binder |  \n",
    "| :---          | :----       | :---:          | :---:          |  \n",
    "| pyKNEEr     | An open and reproducible workflow for knee cartilage segmentation| <a href=\"https://github.com/sbonaretti/pyKNEEr\"> <img src=\"./_images/github_logo.png\"  width=\"20\" height=\"20\"></a> | Launch binder from <a href=\"https://github.com/sbonaretti/pyKNEEr\"> <img src=\"./_images/github_logo.png\"  width=\"20\" height=\"20\"></a>|\n",
    "|image_data_mha.ipynb | It extracts image spacing, size, and pixel type from a group of .mha images | <a href=\"https://github.com/JCMSK/nb_gallery/blob/master/image_data_mha.ipynb\"> <img src=\"./_images/github_logo.png\"  width=\"20\" height=\"20\"></a> | [![Binder](https://mybinder.org/badge_logo.svg)](https://mybinder.org/v2/gh/JCMSK/nb_gallery/master?filepath=image_data_mha.ipynb) |\n",
    "\n",
    "\n",
    "### Mechanical analysis\n",
    "\n",
    "| Notebook/package name | Description | Link to GitHub | Link to Binder |  \n",
    "| :---          | :----       | :---:          | :---:          |  \n",
    "| ciclope | It processes micro computed tomography data to generate finite element models |  <a href=\"https://github.com/gianthk/ciclope\"> <img src=\"./_images/github_logo.png\"  width=\"20\" height=\"20\"></a> | Coming soon|    \n",
    "\n",
    "\n",
    "### Data analysis\n",
    "\n",
    "| Notebook name | Description | Link to GitHub | Link to Binder |  \n",
    "| :---          | :----       | :---:          | :---:          |  \n",
    "| subject_data.ipynb     | It calculates descriptive statistics for a group of subjects from tabular data | <a href=\"https://github.com/JCMSK/nb_gallery/blob/master/subject_data.ipynb\"> <img src=\"./_images/github_logo.png\"  width=\"20\" height=\"20\"></a> | [![Binder](https://mybinder.org/badge_logo.svg)](https://mybinder.org/v2/gh/JCMSK/nb_gallery/master?filepath=subject_data.ipynb) | "
   ]
  },
  {
   "cell_type": "markdown",
   "id": "1b88a2db",
   "metadata": {},
   "source": [
    "<a name = \"packages\"></a>\n",
    "           \n",
    "## How to explore the notebooks \n",
    "\n",
    "- The very easy way: \n",
    "  - Go to binder: [![Binder](https://mybinder.org/badge_logo.svg)](https://mybinder.org/v2/gh/JCMSK/nb_gallery/master)  \n",
    "    (Not familiar with Binder? Watch [this video](https://www.youtube.com/watch?v=owSGVOov9pQ)!) \n",
    "  - Open a notebook\n",
    "  - Run all cells (`Cell` -> `Run all cells`) or run one cell at the time sequentially (click on a cell -> `Cell` -> `Run cell`)\n",
    "  - Do not forget to read the narrative of the notebook!\n",
    "- The easy way: \n",
    "  - Clone or download the notebook from the GitHub repository (green button `code`)\n",
    "  - Open a notebook, run it, and then try it with your own data!   \n",
    "    (If you are not familiar with the Jupyter/python enviroment, watch [this tutorial](https://www.youtube.com/playlist?list=PLj8QFvBykB7fGEH274TlqhToqGd_Qxt1H))"
   ]
  }
 ],
 "metadata": {
  "kernelspec": {
   "display_name": "Python 3 (ipykernel)",
   "language": "python",
   "name": "python3"
  },
  "language_info": {
   "codemirror_mode": {
    "name": "ipython",
    "version": 3
   },
   "file_extension": ".py",
   "mimetype": "text/x-python",
   "name": "python",
   "nbconvert_exporter": "python",
   "pygments_lexer": "ipython3",
   "version": "3.8.5"
  },
  "widgets": {
   "application/vnd.jupyter.widget-state+json": {
    "state": {},
    "version_major": 2,
    "version_minor": 0
   }
  }
 },
 "nbformat": 4,
 "nbformat_minor": 5
}
