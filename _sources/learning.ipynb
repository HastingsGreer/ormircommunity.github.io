{
 "cells": [
  {
   "cell_type": "markdown",
   "id": "99bba3fb",
   "metadata": {},
   "source": [
    "# Learning material"
   ]
  },
  {
   "cell_type": "markdown",
   "id": "81dc625c",
   "metadata": {},
   "source": [
    "This page contains a collection of material to learn about the Jupyter environment and python"
   ]
  },
  {
   "cell_type": "markdown",
   "id": "4e51fd64",
   "metadata": {},
   "source": [
    "\n",
    "## Tutorials\n",
    "Here is a collection of tutorials to learn Jupyter notebook, python, and SimpleITK\n",
    "\n",
    "### Video tutorials\n",
    "- [Transparent Research 101](https://www.youtube.com/playlist?list=PLj8QFvBykB7cdVPr6CY08UyPPPzy8R2Ar): Overview playlist on why and how to do open and reproducible research\n",
    "- [Jupyter notebook and python for scientists](https://www.youtube.com/playlist?list=PLj8QFvBykB7fGEH274TlqhToqGd_Qxt1H): Overview of the Jupyter/python environment\n",
    "- [Scipy conference](https://www.youtube.com/user/EnthoughtMedia/videos): In between conference talks, there are tutorials on Jupyter and the main scientific libraries\n",
    "- [pyData conference](https://www.youtube.com/user/PyDataTV): In between conference talks, there are tutorials on Jupyter and the main scientific libraries\n",
    "\n",
    "### Hands-on tutorials\n",
    "- [SimpleITK notebooks](http://insightsoftwareconsortium.github.io/SimpleITK-Notebooks/): Collection of all the SimpleITK functionalities: image I/O, filters, etc. \n",
    "- [SPIE 2019 workshop](https://simpleitk.org/SPIE2019_COURSE/): Tutorial on how to use SimpleITK\n",
    "- [OpenMR Benelux 2020](https://github.com/sbonaretti/2020_OpenMR_jupyter): Basic python and one medical image analysis example  \n",
    "- [Imperial College](https://github.com/ozan-oktay/Medical-Image-Analysis-IPython-Tutorials): Notebooks for an academic course\n",
    "\n",
    "## Jupyter notebooks\n",
    "\n",
    "### Examples of notebooks in medical image analysis  \n",
    "- [JCMSK notebooks](https://github.com/JCMSK/nb_gallery): Our notebooks on musculosketelal imaging-based research  \n",
    "- [Nipype](https://miykael.github.io/nipype_tutorial/): Several notebook tutorials on how to use Nipype (neuroimaging)\n",
    "- [DLTK](https://github.com/DLTK/DLTK/tree/master/examples/tutorials): Examples for a deep learning package  \n",
    "- [pyKNEEr](https://github.com/sbonaretti/pyKNEEr): Examples for knee cartilage segmentation and analysis\n",
    "\n",
    "### Examples of notebooks in other fields \n",
    "- [A gallery of interesting Jupyter Notebooks](https://github.com/jupyter/jupyter/wiki/A-gallery-of-interesting-Jupyter-Notebooks): Many examples of notebooks used in other disciplines and for various purposes  \n",
    "\n",
    "\n",
    "## Cheat sheets  \n",
    "There are plenty of cheat sheets online that summarize main commands and tricks for python and its packages. Here the links to some of them:\n",
    "- python: [example1](https://ehmatthes.github.io/pcc/cheatsheets/README.html), [example2](https://s3.amazonaws.com/assets.datacamp.com/blog_assets/PythonForDataScience.pdf), [example3](https://s3.amazonaws.com/dq-blog-files/python-cheat-sheet-basic.pdf)  \n",
    "- numpy (linear algebra package): [example1](https://s3.amazonaws.com/assets.datacamp.com/blog_assets/Numpy_Python_Cheat_Sheet.pdf), [example2](https://s3.amazonaws.com/dq-blog-files/numpy-cheat-sheet.pdf)\n",
    "- matplotlib (visualization package): [example1](https://github.com/matplotlib/cheatsheets)\n",
    "- pandas (tabular data analysis): [example1](https://s3.amazonaws.com/assets.datacamp.com/blog_assets/Python_Pandas_Cheat_Sheet_2.pdf), [exemple2](https://drive.google.com/file/d/1UHK8wtWbADvHKXFC937IS6MTnlSZC_zB/view)\n"
   ]
  },
  {
   "cell_type": "code",
   "execution_count": null,
   "id": "79b3ffbd",
   "metadata": {},
   "outputs": [],
   "source": []
  }
 ],
 "metadata": {
  "kernelspec": {
   "display_name": "Python 3",
   "language": "python",
   "name": "python3"
  },
  "language_info": {
   "codemirror_mode": {
    "name": "ipython",
    "version": 3
   },
   "file_extension": ".py",
   "mimetype": "text/x-python",
   "name": "python",
   "nbconvert_exporter": "python",
   "pygments_lexer": "ipython3",
   "version": "3.8.5"
  },
  "widgets": {
   "application/vnd.jupyter.widget-state+json": {
    "state": {},
    "version_major": 2,
    "version_minor": 0
   }
  }
 },
 "nbformat": 4,
 "nbformat_minor": 5
}
