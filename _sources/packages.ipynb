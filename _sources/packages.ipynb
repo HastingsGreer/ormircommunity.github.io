{
 "cells": [
  {
   "cell_type": "markdown",
   "id": "1dd69f20",
   "metadata": {},
   "source": [
    "# Python packages"
   ]
  },
  {
   "cell_type": "markdown",
   "id": "60348147",
   "metadata": {},
   "source": [
    "This page contains links to the python packages we are working on"
   ]
  },
  {
   "cell_type": "markdown",
   "id": "f3844cfd",
   "metadata": {},
   "source": [
    "### Tissue level: HR-pQCT / µCT"
   ]
  },
  {
   "cell_type": "markdown",
   "id": "8359ab96",
   "metadata": {},
   "source": [
    "| Package name | Description | Link to GitHub |  \n",
    "| :---          | :----       | :---:          |   \n",
    "|ITKIOScanco | An ITK module to read and write Scanco microCT .isq files| <a href=\"https://github.com/KitwareMedical/ITKIOScanco\"> <img src=\"./_images/github_logo.png\"  width=\"20\" height=\"20\"></a> |\n"
   ]
  },
  {
   "cell_type": "markdown",
   "id": "2d3b92c8",
   "metadata": {},
   "source": [
    "### Organ level: MR / CT "
   ]
  },
  {
   "cell_type": "markdown",
   "id": "665dc66c",
   "metadata": {},
   "source": [
    "| Package name | Description | Link to GitHub |  \n",
    "| :---         | :----       | :---:          |   \n",
    "|pyKNEEr | An open and reproducible workflows for femoral knee cartilage image analysis| <a href=\"https://github.com/sbonaretti/pyKNEEr\"> <img src=\"./_images/github_logo.png\"  width=\"20\" height=\"20\"></a> |"
   ]
  },
  {
   "cell_type": "markdown",
   "id": "1cf4e5b1",
   "metadata": {},
   "source": [
    "### General"
   ]
  },
  {
   "cell_type": "markdown",
   "id": "0ecb3d2a",
   "metadata": {},
   "source": [
    "| Package name | Description | Link to GitHub |  \n",
    "| :---         | :----       | :---:          |   \n",
    "|pyMSK | A core package to process and analyze musculoskeletal images| <a href=\"https://github.com/JCMSK/pymsk\"> <img src=\"./_images/github_logo.png\"  width=\"20\" height=\"20\"></a> |"
   ]
  }
 ],
 "metadata": {
  "kernelspec": {
   "display_name": "Python 3",
   "language": "python",
   "name": "python3"
  },
  "language_info": {
   "codemirror_mode": {
    "name": "ipython",
    "version": 3
   },
   "file_extension": ".py",
   "mimetype": "text/x-python",
   "name": "python",
   "nbconvert_exporter": "python",
   "pygments_lexer": "ipython3",
   "version": "3.8.5"
  },
  "widgets": {
   "application/vnd.jupyter.widget-state+json": {
    "state": {},
    "version_major": 2,
    "version_minor": 0
   }
  }
 },
 "nbformat": 4,
 "nbformat_minor": 5
}
