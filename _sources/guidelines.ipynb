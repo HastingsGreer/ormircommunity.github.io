{
 "cells": [
  {
   "cell_type": "markdown",
   "id": "b856c724",
   "metadata": {},
   "source": [
    "# Coding guidelines"
   ]
  },
  {
   "cell_type": "markdown",
   "id": "20ca1bfb",
   "metadata": {},
   "source": [
    "The following guidelines are highly-recommended suggestions to make our code consistent across various pipelines\n",
    "\n",
    "“Code is read much more often than it is written.” - Guido van Rossum (founder of Python)  \n",
    "*Simplicity* is the main principle when writing code"
   ]
  },
  {
   "cell_type": "markdown",
   "id": "76d2a6fa",
   "metadata": {},
   "source": [
    "## General python guidelines\n",
    "Here is a summary of the guidelines used by the whole python community. Find the official guidelines [here](https://www.python.org/dev/peps/pep-0008/) \n",
    "\n",
    "### Naming Style\n",
    "- Variables, functions, methods, modules, packages:   \n",
    "  `lower_case_with_underscores`\n",
    "- Classes and exceptions:  \n",
    "  `CapWords`\n",
    "- Constants:  \n",
    "  `ALL_CAPS_WITH_UNDERSCORES`\n",
    "\n",
    "### Indentation\n",
    "- 4 spaces\n",
    "\n",
    "### Empty Space\n",
    "- Leave space between operators in case of assignment and arithmetic operations:  \n",
    "  ```\n",
    "  var = 4\n",
    "  result = var * 5\n",
    "  ```\n",
    "- Leave space after a comma:  \n",
    "  `var1, var2 = get_values(num1, num2)`"
   ]
  },
  {
   "cell_type": "markdown",
   "id": "fd66daf7",
   "metadata": {},
   "source": [
    "--- \n",
    "\n",
    "## JCMSK guidelines \n",
    "\n",
    "**>>> ! The following guidelines are still work in progress and under discussion <<<**\n",
    "\n",
    "### Comments  \n",
    "Commenting code is fundamental as it allow others to understand it (and ourselves at a later time as well!)\n",
    "\n",
    "#### General comments\n",
    "- General comments are introduced by `#` and are above the code they refer to:\n",
    "  ```\n",
    "  # assign variable\n",
    "  a = 5\n",
    "  ```\n",
    "  \n",
    "#### Functions  \n",
    "We follow the numpy style guide (see [here](https://numpydoc.readthedocs.io/en/latest/format.html)\n",
    "Each function is documented right below its definition:    \n",
    "```\n",
    "def my_function (input1, input2):\n",
    "    \n",
    "    \"\"\"This functions does ... .\n",
    "    \n",
    "    Parameters\n",
    "    ----------\n",
    "    x : type\n",
    "        Description of parameter `x`.\n",
    "    y\n",
    "        Description of parameter `y` (with type not specified).\n",
    "    \n",
    "    Returns\n",
    "    -------\n",
    "    int\n",
    "        Description of anonymous integer return value.\n",
    "    \"\"\"\n",
    "    \n",
    "    function body\n",
    "    \n",
    "    return output1 \n",
    "```\n",
    "- The function documentation is in between three opening and three closing double quotes: `\"\"\"`\n",
    "- Outline:  \n",
    "  - Description of what the function does\n",
    "  - Keyword `Parameters:` followed by a list of parameters. For each parameter, type on the same line, and indented description on the following line\n",
    "  - Keyword `Returns:` followed by a list of returned variables. For each variable, type on the same line, and indented description on the following line\n",
    "- *Why is this important?*   \n",
    "  These comments decleared in between triple double quotes (`\"\"\"`) are called *docstrings*. And they are used:  \n",
    "  - By users to know what the function does by typing `help (my_function)`  \n",
    "  - To create whole code documentation using, for example, `pydoc` or `Sphinx`, where you get a list of all the functions in a package, and their documentation\n",
    "    \n",
    "#### Classes\n",
    "Coming soon!\n",
    "\n",
    "#### Modules\n",
    "Coming soon!  \n",
    "\n",
    "#### Packages \n",
    "Coming soon!\n",
    "\n",
    "### Data types  \n",
    "In our pipelines, we mainly use: 3D image volumes, meshes, and point clouds.  \n",
    "Here are our conventions:\n",
    "\n",
    "| data type | data representation      | file format  |\n",
    "| :---------| :----------------------- | :----------- |\n",
    "| Image     | SimpleITK / VTK?         | .mha? /.vtk? |\n",
    "| Mesh      | VTK?                     | .vtk?        | \n",
    "| Points    | VTKPoints / Numpy array? | .vtk? / .txt?|\n",
    "\n",
    "\n",
    "#### Image   \n",
    "##### Data representation \n",
    "##### File format    \n",
    "\n",
    "#### Mesh  \n",
    "##### Data representation \n",
    "##### File format    \n",
    "\n",
    "#### Point  \n",
    "##### Data representation\n",
    "##### File format   "
   ]
  },
  {
   "cell_type": "code",
   "execution_count": null,
   "id": "e1e3a501",
   "metadata": {},
   "outputs": [],
   "source": []
  }
 ],
 "metadata": {
  "kernelspec": {
   "display_name": "Python 3",
   "language": "python",
   "name": "python3"
  },
  "language_info": {
   "codemirror_mode": {
    "name": "ipython",
    "version": 3
   },
   "file_extension": ".py",
   "mimetype": "text/x-python",
   "name": "python",
   "nbconvert_exporter": "python",
   "pygments_lexer": "ipython3",
   "version": "3.8.5"
  },
  "widgets": {
   "application/vnd.jupyter.widget-state+json": {
    "state": {},
    "version_major": 2,
    "version_minor": 0
   }
  }
 },
 "nbformat": 4,
 "nbformat_minor": 5
}
